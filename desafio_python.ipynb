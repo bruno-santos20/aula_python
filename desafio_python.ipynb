{
 "cells": [
  {
   "cell_type": "code",
   "execution_count": 7,
   "metadata": {},
   "outputs": [],
   "source": [
    "frase = \"Nunca temamos com os ladrões nem os assassinos. Estes são perigos externos, pequenos perigos. Temamos a nós mesmos. Os preconceitos, esses são os ladrões; os vícios, esses são os assassinos. Os grandes perigos estão dentro de nós. Que importa o que ameaça nossa vida ou nossas bolsas?! Preocupemo-nos apenas com o que ameaça nossa alma\""
   ]
  },
  {
   "cell_type": "code",
   "execution_count": 8,
   "metadata": {},
   "outputs": [
    {
     "name": "stdout",
     "output_type": "stream",
     "text": [
      "O texto contem: 335 caracteres\n"
     ]
    }
   ],
   "source": [
    "# Seleciona as letras ditintas para serem utilizadas na contagem \n",
    "unicos = []\n",
    "for letra in frase:\n",
    "        if letra not in unicos:\n",
    "            unicos.append(letra.upper())\n",
    "\n",
    "\n",
    "            #Conta a quantidade de caracteres \n",
    "conte = 0 \n",
    "for letra in frase:\n",
    "    conte = conte + 1\n",
    "\n",
    "print('O texto contem: %s caracteres'%(conte))"
   ]
  },
  {
   "cell_type": "code",
   "execution_count": 9,
   "metadata": {},
   "outputs": [
    {
     "name": "stdout",
     "output_type": "stream",
     "text": [
      "Quantidade de caracteres repetidos\n",
      "Caractere :  N -> 17\n",
      "Caractere :  U -> 7\n",
      "Caractere :  C -> 7\n",
      "Caractere :  A -> 27\n",
      "Caractere :    -> 54\n",
      "Caractere :  T -> 8\n",
      "Caractere :  E -> 33\n",
      "Caractere :  M -> 14\n",
      "Caractere :  O -> 38\n",
      "Caractere :  S -> 56\n",
      "Caractere :  L -> 4\n",
      "Caractere :  D -> 6\n",
      "Caractere :  R -> 11\n",
      "Caractere :  Õ -> 2\n",
      "Caractere :  I -> 9\n",
      "Caractere :  . -> 5\n",
      "Caractere :  Ã -> 4\n",
      "Caractere :  P -> 9\n",
      "Caractere :  G -> 4\n",
      "Caractere :  X -> 1\n",
      "Caractere :  , -> 3\n",
      "Caractere :  Q -> 4\n",
      "Caractere :  Ó -> 2\n",
      "Caractere :  ; -> 1\n",
      "Caractere :  V -> 2\n",
      "Caractere :  Í -> 1\n",
      "Caractere :  Ç -> 2\n",
      "Caractere :  B -> 1\n",
      "Caractere :  ? -> 1\n",
      "Caractere :  ! -> 1\n",
      "Caractere :  - -> 1\n"
     ]
    }
   ],
   "source": [
    "# Contagem de caracteres distintos e armazena a informação em um dicionário \n",
    " \n",
    "dic = {}\n",
    "cont = 0 \n",
    "for repedida in unicos:\n",
    "    for letra in frase:\n",
    "        if repedida.upper() == letra.upper():\n",
    "            cont = cont + 1 \n",
    "    dic[repedida] = cont\n",
    "    cont = 0\n",
    "\n",
    "print(\"Quantidade de caracteres repetidos\")\n",
    "for chave in dic:\n",
    "    print('Caractere : ' ,chave, '->' , dic[chave])"
   ]
  },
  {
   "cell_type": "code",
   "execution_count": null,
   "metadata": {},
   "outputs": [],
   "source": []
  }
 ],
 "metadata": {
  "kernelspec": {
   "display_name": "Python 3",
   "language": "python",
   "name": "python3"
  },
  "language_info": {
   "codemirror_mode": {
    "name": "ipython",
    "version": 3
   },
   "file_extension": ".py",
   "mimetype": "text/x-python",
   "name": "python",
   "nbconvert_exporter": "python",
   "pygments_lexer": "ipython3",
   "version": "3.8.5"
  }
 },
 "nbformat": 4,
 "nbformat_minor": 4
}
